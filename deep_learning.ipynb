{
  "nbformat": 4,
  "nbformat_minor": 0,
  "metadata": {
    "colab": {
      "provenance": [],
      "gpuType": "T4",
      "collapsed_sections": [
        "Zbla7Bhfkt1_",
        "M_HPR40Vk3J9"
      ],
      "toc_visible": true,
      "include_colab_link": true
    },
    "kernelspec": {
      "name": "python3",
      "display_name": "Python 3"
    },
    "language_info": {
      "name": "python"
    },
    "accelerator": "GPU"
  },
  "cells": [
    {
      "cell_type": "markdown",
      "metadata": {
        "id": "view-in-github",
        "colab_type": "text"
      },
      "source": [
        "<a href=\"https://colab.research.google.com/github/tronglinux123/AI-Project/blob/main/deep_learning.ipynb\" target=\"_parent\"><img src=\"https://colab.research.google.com/assets/colab-badge.svg\" alt=\"Open In Colab\"/></a>"
      ]
    },
    {
      "cell_type": "code",
      "source": [
        "!pip install google-cloud-bigquery"
      ],
      "metadata": {
        "id": "kLoobwgHR0_o",
        "colab": {
          "base_uri": "https://localhost:8080/"
        },
        "outputId": "6f7a9d95-8faa-4ec3-9529-8b3f2abb9882",
        "collapsed": true
      },
      "execution_count": null,
      "outputs": [
        {
          "output_type": "stream",
          "name": "stdout",
          "text": [
            "Requirement already satisfied: google-cloud-bigquery in /usr/local/lib/python3.12/dist-packages (3.38.0)\n",
            "Requirement already satisfied: google-api-core<3.0.0,>=2.11.1 in /usr/local/lib/python3.12/dist-packages (from google-api-core[grpc]<3.0.0,>=2.11.1->google-cloud-bigquery) (2.25.2)\n",
            "Requirement already satisfied: google-auth<3.0.0,>=2.14.1 in /usr/local/lib/python3.12/dist-packages (from google-cloud-bigquery) (2.38.0)\n",
            "Requirement already satisfied: google-cloud-core<3.0.0,>=2.4.1 in /usr/local/lib/python3.12/dist-packages (from google-cloud-bigquery) (2.4.3)\n",
            "Requirement already satisfied: google-resumable-media<3.0.0,>=2.0.0 in /usr/local/lib/python3.12/dist-packages (from google-cloud-bigquery) (2.7.2)\n",
            "Requirement already satisfied: packaging>=24.2.0 in /usr/local/lib/python3.12/dist-packages (from google-cloud-bigquery) (25.0)\n",
            "Requirement already satisfied: python-dateutil<3.0.0,>=2.8.2 in /usr/local/lib/python3.12/dist-packages (from google-cloud-bigquery) (2.9.0.post0)\n",
            "Requirement already satisfied: requests<3.0.0,>=2.21.0 in /usr/local/lib/python3.12/dist-packages (from google-cloud-bigquery) (2.32.4)\n",
            "Requirement already satisfied: googleapis-common-protos<2.0.0,>=1.56.2 in /usr/local/lib/python3.12/dist-packages (from google-api-core<3.0.0,>=2.11.1->google-api-core[grpc]<3.0.0,>=2.11.1->google-cloud-bigquery) (1.70.0)\n",
            "Requirement already satisfied: protobuf!=3.20.0,!=3.20.1,!=4.21.0,!=4.21.1,!=4.21.2,!=4.21.3,!=4.21.4,!=4.21.5,<7.0.0,>=3.19.5 in /usr/local/lib/python3.12/dist-packages (from google-api-core<3.0.0,>=2.11.1->google-api-core[grpc]<3.0.0,>=2.11.1->google-cloud-bigquery) (5.29.5)\n",
            "Requirement already satisfied: proto-plus<2.0.0,>=1.22.3 in /usr/local/lib/python3.12/dist-packages (from google-api-core<3.0.0,>=2.11.1->google-api-core[grpc]<3.0.0,>=2.11.1->google-cloud-bigquery) (1.26.1)\n",
            "Requirement already satisfied: grpcio<2.0.0,>=1.33.2 in /usr/local/lib/python3.12/dist-packages (from google-api-core[grpc]<3.0.0,>=2.11.1->google-cloud-bigquery) (1.75.1)\n",
            "Requirement already satisfied: grpcio-status<2.0.0,>=1.33.2 in /usr/local/lib/python3.12/dist-packages (from google-api-core[grpc]<3.0.0,>=2.11.1->google-cloud-bigquery) (1.71.2)\n",
            "Requirement already satisfied: cachetools<6.0,>=2.0.0 in /usr/local/lib/python3.12/dist-packages (from google-auth<3.0.0,>=2.14.1->google-cloud-bigquery) (5.5.2)\n",
            "Requirement already satisfied: pyasn1-modules>=0.2.1 in /usr/local/lib/python3.12/dist-packages (from google-auth<3.0.0,>=2.14.1->google-cloud-bigquery) (0.4.2)\n",
            "Requirement already satisfied: rsa<5,>=3.1.4 in /usr/local/lib/python3.12/dist-packages (from google-auth<3.0.0,>=2.14.1->google-cloud-bigquery) (4.9.1)\n",
            "Requirement already satisfied: google-crc32c<2.0dev,>=1.0 in /usr/local/lib/python3.12/dist-packages (from google-resumable-media<3.0.0,>=2.0.0->google-cloud-bigquery) (1.7.1)\n",
            "Requirement already satisfied: six>=1.5 in /usr/local/lib/python3.12/dist-packages (from python-dateutil<3.0.0,>=2.8.2->google-cloud-bigquery) (1.17.0)\n",
            "Requirement already satisfied: charset_normalizer<4,>=2 in /usr/local/lib/python3.12/dist-packages (from requests<3.0.0,>=2.21.0->google-cloud-bigquery) (3.4.3)\n",
            "Requirement already satisfied: idna<4,>=2.5 in /usr/local/lib/python3.12/dist-packages (from requests<3.0.0,>=2.21.0->google-cloud-bigquery) (3.10)\n",
            "Requirement already satisfied: urllib3<3,>=1.21.1 in /usr/local/lib/python3.12/dist-packages (from requests<3.0.0,>=2.21.0->google-cloud-bigquery) (2.5.0)\n",
            "Requirement already satisfied: certifi>=2017.4.17 in /usr/local/lib/python3.12/dist-packages (from requests<3.0.0,>=2.21.0->google-cloud-bigquery) (2025.10.5)\n",
            "Requirement already satisfied: typing-extensions~=4.12 in /usr/local/lib/python3.12/dist-packages (from grpcio<2.0.0,>=1.33.2->google-api-core[grpc]<3.0.0,>=2.11.1->google-cloud-bigquery) (4.15.0)\n",
            "Requirement already satisfied: pyasn1<0.7.0,>=0.6.1 in /usr/local/lib/python3.12/dist-packages (from pyasn1-modules>=0.2.1->google-auth<3.0.0,>=2.14.1->google-cloud-bigquery) (0.6.1)\n"
          ]
        }
      ]
    },
    {
      "cell_type": "code",
      "execution_count": null,
      "metadata": {
        "id": "CP-Ffikr2Ma4"
      },
      "outputs": [],
      "source": [
        "from datetime import timedelta\n",
        "import os\n",
        "\n",
        "import numpy as np\n",
        "import pandas as pd\n",
        "import re\n",
        "import matplotlib.pyplot as plt\n",
        "import matplotlib.dates as mdates\n",
        "\n",
        "from IPython.display import display, HTML, Image\n",
        "%matplotlib inline\n",
        "\n",
        "plt.style.use('ggplot')\n",
        "plt.rcParams.update({'font.size': 20})\n",
        "\n",
        "# Access data using Google BigQuery.\n",
        "from google.colab import auth\n",
        "from google.cloud import bigquery"
      ]
    },
    {
      "cell_type": "code",
      "source": [
        "auth.authenticate_user()"
      ],
      "metadata": {
        "id": "Vj2qPoNlRzxr"
      },
      "execution_count": null,
      "outputs": []
    },
    {
      "cell_type": "code",
      "source": [
        "# Set up environment variables\n",
        "project_id = 'project-physionet-474410'\n",
        "os.environ[\"GOOGLE_CLOUD_PROJECT\"] = project_id\n",
        "\n",
        "# Read data from BigQuery into pandas dataframes.\n",
        "def run_query(query, project_id=project_id):\n",
        "  return pd.io.gbq.read_gbq(\n",
        "      query,\n",
        "      project_id=project_id,\n",
        "      dialect='standard')\n",
        "\n",
        "# set the dataset\n",
        "dataset = 'mimiciv'\n"
      ],
      "metadata": {
        "id": "j5eTEEdhJVYG"
      },
      "execution_count": null,
      "outputs": []
    },
    {
      "cell_type": "code",
      "source": [
        "data_x_ray = pd.read_csv('x_ray_data.csv')\n",
        "data = data_x_ray[['subject_id', 'hadm_id', 'time']]\n",
        "data = data.drop(data.index[-1])\n",
        "data"
      ],
      "metadata": {
        "colab": {
          "base_uri": "https://localhost:8080/",
          "height": 339
        },
        "id": "TyN4nhkVVdv6",
        "outputId": "b1b6dd36-727a-4fbc-aaf6-9c2d6ecd5500",
        "collapsed": true
      },
      "execution_count": null,
      "outputs": [
        {
          "output_type": "error",
          "ename": "FileNotFoundError",
          "evalue": "[Errno 2] No such file or directory: 'x_ray_data.csv'",
          "traceback": [
            "\u001b[0;31m---------------------------------------------------------------------------\u001b[0m",
            "\u001b[0;31mFileNotFoundError\u001b[0m                         Traceback (most recent call last)",
            "\u001b[0;32m/tmp/ipython-input-4047531136.py\u001b[0m in \u001b[0;36m<cell line: 0>\u001b[0;34m()\u001b[0m\n\u001b[0;32m----> 1\u001b[0;31m \u001b[0mdata_x_ray\u001b[0m \u001b[0;34m=\u001b[0m \u001b[0mpd\u001b[0m\u001b[0;34m.\u001b[0m\u001b[0mread_csv\u001b[0m\u001b[0;34m(\u001b[0m\u001b[0;34m'x_ray_data.csv'\u001b[0m\u001b[0;34m)\u001b[0m\u001b[0;34m\u001b[0m\u001b[0;34m\u001b[0m\u001b[0m\n\u001b[0m\u001b[1;32m      2\u001b[0m \u001b[0mdata\u001b[0m \u001b[0;34m=\u001b[0m \u001b[0mdata_x_ray\u001b[0m\u001b[0;34m[\u001b[0m\u001b[0;34m[\u001b[0m\u001b[0;34m'subject_id'\u001b[0m\u001b[0;34m,\u001b[0m \u001b[0;34m'hadm_id'\u001b[0m\u001b[0;34m,\u001b[0m \u001b[0;34m'time'\u001b[0m\u001b[0;34m]\u001b[0m\u001b[0;34m]\u001b[0m\u001b[0;34m\u001b[0m\u001b[0;34m\u001b[0m\u001b[0m\n\u001b[1;32m      3\u001b[0m \u001b[0mdata\u001b[0m \u001b[0;34m=\u001b[0m \u001b[0mdata\u001b[0m\u001b[0;34m.\u001b[0m\u001b[0mdrop\u001b[0m\u001b[0;34m(\u001b[0m\u001b[0mdata\u001b[0m\u001b[0;34m.\u001b[0m\u001b[0mindex\u001b[0m\u001b[0;34m[\u001b[0m\u001b[0;34m-\u001b[0m\u001b[0;36m1\u001b[0m\u001b[0;34m]\u001b[0m\u001b[0;34m)\u001b[0m\u001b[0;34m\u001b[0m\u001b[0;34m\u001b[0m\u001b[0m\n\u001b[1;32m      4\u001b[0m \u001b[0mdata\u001b[0m\u001b[0;34m\u001b[0m\u001b[0;34m\u001b[0m\u001b[0m\n",
            "\u001b[0;32m/usr/local/lib/python3.12/dist-packages/pandas/io/parsers/readers.py\u001b[0m in \u001b[0;36mread_csv\u001b[0;34m(filepath_or_buffer, sep, delimiter, header, names, index_col, usecols, dtype, engine, converters, true_values, false_values, skipinitialspace, skiprows, skipfooter, nrows, na_values, keep_default_na, na_filter, verbose, skip_blank_lines, parse_dates, infer_datetime_format, keep_date_col, date_parser, date_format, dayfirst, cache_dates, iterator, chunksize, compression, thousands, decimal, lineterminator, quotechar, quoting, doublequote, escapechar, comment, encoding, encoding_errors, dialect, on_bad_lines, delim_whitespace, low_memory, memory_map, float_precision, storage_options, dtype_backend)\u001b[0m\n\u001b[1;32m   1024\u001b[0m     \u001b[0mkwds\u001b[0m\u001b[0;34m.\u001b[0m\u001b[0mupdate\u001b[0m\u001b[0;34m(\u001b[0m\u001b[0mkwds_defaults\u001b[0m\u001b[0;34m)\u001b[0m\u001b[0;34m\u001b[0m\u001b[0;34m\u001b[0m\u001b[0m\n\u001b[1;32m   1025\u001b[0m \u001b[0;34m\u001b[0m\u001b[0m\n\u001b[0;32m-> 1026\u001b[0;31m     \u001b[0;32mreturn\u001b[0m \u001b[0m_read\u001b[0m\u001b[0;34m(\u001b[0m\u001b[0mfilepath_or_buffer\u001b[0m\u001b[0;34m,\u001b[0m \u001b[0mkwds\u001b[0m\u001b[0;34m)\u001b[0m\u001b[0;34m\u001b[0m\u001b[0;34m\u001b[0m\u001b[0m\n\u001b[0m\u001b[1;32m   1027\u001b[0m \u001b[0;34m\u001b[0m\u001b[0m\n\u001b[1;32m   1028\u001b[0m \u001b[0;34m\u001b[0m\u001b[0m\n",
            "\u001b[0;32m/usr/local/lib/python3.12/dist-packages/pandas/io/parsers/readers.py\u001b[0m in \u001b[0;36m_read\u001b[0;34m(filepath_or_buffer, kwds)\u001b[0m\n\u001b[1;32m    618\u001b[0m \u001b[0;34m\u001b[0m\u001b[0m\n\u001b[1;32m    619\u001b[0m     \u001b[0;31m# Create the parser.\u001b[0m\u001b[0;34m\u001b[0m\u001b[0;34m\u001b[0m\u001b[0m\n\u001b[0;32m--> 620\u001b[0;31m     \u001b[0mparser\u001b[0m \u001b[0;34m=\u001b[0m \u001b[0mTextFileReader\u001b[0m\u001b[0;34m(\u001b[0m\u001b[0mfilepath_or_buffer\u001b[0m\u001b[0;34m,\u001b[0m \u001b[0;34m**\u001b[0m\u001b[0mkwds\u001b[0m\u001b[0;34m)\u001b[0m\u001b[0;34m\u001b[0m\u001b[0;34m\u001b[0m\u001b[0m\n\u001b[0m\u001b[1;32m    621\u001b[0m \u001b[0;34m\u001b[0m\u001b[0m\n\u001b[1;32m    622\u001b[0m     \u001b[0;32mif\u001b[0m \u001b[0mchunksize\u001b[0m \u001b[0;32mor\u001b[0m \u001b[0miterator\u001b[0m\u001b[0;34m:\u001b[0m\u001b[0;34m\u001b[0m\u001b[0;34m\u001b[0m\u001b[0m\n",
            "\u001b[0;32m/usr/local/lib/python3.12/dist-packages/pandas/io/parsers/readers.py\u001b[0m in \u001b[0;36m__init__\u001b[0;34m(self, f, engine, **kwds)\u001b[0m\n\u001b[1;32m   1618\u001b[0m \u001b[0;34m\u001b[0m\u001b[0m\n\u001b[1;32m   1619\u001b[0m         \u001b[0mself\u001b[0m\u001b[0;34m.\u001b[0m\u001b[0mhandles\u001b[0m\u001b[0;34m:\u001b[0m \u001b[0mIOHandles\u001b[0m \u001b[0;34m|\u001b[0m \u001b[0;32mNone\u001b[0m \u001b[0;34m=\u001b[0m \u001b[0;32mNone\u001b[0m\u001b[0;34m\u001b[0m\u001b[0;34m\u001b[0m\u001b[0m\n\u001b[0;32m-> 1620\u001b[0;31m         \u001b[0mself\u001b[0m\u001b[0;34m.\u001b[0m\u001b[0m_engine\u001b[0m \u001b[0;34m=\u001b[0m \u001b[0mself\u001b[0m\u001b[0;34m.\u001b[0m\u001b[0m_make_engine\u001b[0m\u001b[0;34m(\u001b[0m\u001b[0mf\u001b[0m\u001b[0;34m,\u001b[0m \u001b[0mself\u001b[0m\u001b[0;34m.\u001b[0m\u001b[0mengine\u001b[0m\u001b[0;34m)\u001b[0m\u001b[0;34m\u001b[0m\u001b[0;34m\u001b[0m\u001b[0m\n\u001b[0m\u001b[1;32m   1621\u001b[0m \u001b[0;34m\u001b[0m\u001b[0m\n\u001b[1;32m   1622\u001b[0m     \u001b[0;32mdef\u001b[0m \u001b[0mclose\u001b[0m\u001b[0;34m(\u001b[0m\u001b[0mself\u001b[0m\u001b[0;34m)\u001b[0m \u001b[0;34m->\u001b[0m \u001b[0;32mNone\u001b[0m\u001b[0;34m:\u001b[0m\u001b[0;34m\u001b[0m\u001b[0;34m\u001b[0m\u001b[0m\n",
            "\u001b[0;32m/usr/local/lib/python3.12/dist-packages/pandas/io/parsers/readers.py\u001b[0m in \u001b[0;36m_make_engine\u001b[0;34m(self, f, engine)\u001b[0m\n\u001b[1;32m   1878\u001b[0m                 \u001b[0;32mif\u001b[0m \u001b[0;34m\"b\"\u001b[0m \u001b[0;32mnot\u001b[0m \u001b[0;32min\u001b[0m \u001b[0mmode\u001b[0m\u001b[0;34m:\u001b[0m\u001b[0;34m\u001b[0m\u001b[0;34m\u001b[0m\u001b[0m\n\u001b[1;32m   1879\u001b[0m                     \u001b[0mmode\u001b[0m \u001b[0;34m+=\u001b[0m \u001b[0;34m\"b\"\u001b[0m\u001b[0;34m\u001b[0m\u001b[0;34m\u001b[0m\u001b[0m\n\u001b[0;32m-> 1880\u001b[0;31m             self.handles = get_handle(\n\u001b[0m\u001b[1;32m   1881\u001b[0m                 \u001b[0mf\u001b[0m\u001b[0;34m,\u001b[0m\u001b[0;34m\u001b[0m\u001b[0;34m\u001b[0m\u001b[0m\n\u001b[1;32m   1882\u001b[0m                 \u001b[0mmode\u001b[0m\u001b[0;34m,\u001b[0m\u001b[0;34m\u001b[0m\u001b[0;34m\u001b[0m\u001b[0m\n",
            "\u001b[0;32m/usr/local/lib/python3.12/dist-packages/pandas/io/common.py\u001b[0m in \u001b[0;36mget_handle\u001b[0;34m(path_or_buf, mode, encoding, compression, memory_map, is_text, errors, storage_options)\u001b[0m\n\u001b[1;32m    871\u001b[0m         \u001b[0;32mif\u001b[0m \u001b[0mioargs\u001b[0m\u001b[0;34m.\u001b[0m\u001b[0mencoding\u001b[0m \u001b[0;32mand\u001b[0m \u001b[0;34m\"b\"\u001b[0m \u001b[0;32mnot\u001b[0m \u001b[0;32min\u001b[0m \u001b[0mioargs\u001b[0m\u001b[0;34m.\u001b[0m\u001b[0mmode\u001b[0m\u001b[0;34m:\u001b[0m\u001b[0;34m\u001b[0m\u001b[0;34m\u001b[0m\u001b[0m\n\u001b[1;32m    872\u001b[0m             \u001b[0;31m# Encoding\u001b[0m\u001b[0;34m\u001b[0m\u001b[0;34m\u001b[0m\u001b[0m\n\u001b[0;32m--> 873\u001b[0;31m             handle = open(\n\u001b[0m\u001b[1;32m    874\u001b[0m                 \u001b[0mhandle\u001b[0m\u001b[0;34m,\u001b[0m\u001b[0;34m\u001b[0m\u001b[0;34m\u001b[0m\u001b[0m\n\u001b[1;32m    875\u001b[0m                 \u001b[0mioargs\u001b[0m\u001b[0;34m.\u001b[0m\u001b[0mmode\u001b[0m\u001b[0;34m,\u001b[0m\u001b[0;34m\u001b[0m\u001b[0;34m\u001b[0m\u001b[0m\n",
            "\u001b[0;31mFileNotFoundError\u001b[0m: [Errno 2] No such file or directory: 'x_ray_data.csv'"
          ]
        }
      ]
    },
    {
      "cell_type": "markdown",
      "source": [
        "### **Diabete**"
      ],
      "metadata": {
        "id": "ICXHQAi8gngQ"
      }
    },
    {
      "cell_type": "code",
      "source": [
        "# Find ICD code related to diabete\n",
        "df = run_query(\"\"\"\n",
        "SELECT icd_code, long_title FROM `physionet-data.mimiciv_hosp.d_icd_diagnoses`\n",
        "WHERE LOWER(long_title) LIKE \"%diabete%\"\n",
        "\"\"\")\n",
        "print(df)\n",
        "\n",
        "# ICD code list\n",
        "icd_codes_diabete = df['icd_code'].to_list()\n",
        "icd_codes_string_diabete = ', '.join([\"'\" + icd + \"'\" for icd in icd_codes_diabete])\n",
        "print(icd_codes_string_diabete)\n"
      ],
      "metadata": {
        "id": "kL9pKNmDpqDC"
      },
      "execution_count": null,
      "outputs": []
    },
    {
      "cell_type": "code",
      "source": [
        "# Subject ID that have diabete\n",
        "df_diabete = run_query(f\"\"\"\n",
        "SELECT `physionet-data.mimiciv_hosp.diagnoses_icd`.subject_id, `physionet-data.mimiciv_hosp.diagnoses_icd`.hadm_id\n",
        "FROM `physionet-data.mimiciv_hosp.diagnoses_icd`\n",
        "WHERE `physionet-data.mimiciv_hosp.diagnoses_icd`.icd_code IN ({icd_codes_string_diabete})\n",
        "\"\"\")\n",
        "print(df_diabete)"
      ],
      "metadata": {
        "id": "YfvmPNIihwiR"
      },
      "execution_count": null,
      "outputs": []
    },
    {
      "cell_type": "markdown",
      "source": [
        "Then need to create a binary variable with 1 if patient is in this list, 0 otherwise"
      ],
      "metadata": {
        "id": "Sr9YA1DtjON1"
      }
    },
    {
      "cell_type": "code",
      "source": [
        "# Add the 'diabete' feature to df\n",
        "data['diabete'] = data['subject_id'].isin(df_diabete['subject_id']).astype(int)\n",
        "print(data)"
      ],
      "metadata": {
        "id": "tIh4-g_4DebT"
      },
      "execution_count": null,
      "outputs": []
    },
    {
      "cell_type": "markdown",
      "source": [
        "### **Age**"
      ],
      "metadata": {
        "id": "Eiw373IMjUza"
      }
    },
    {
      "cell_type": "code",
      "source": [
        "df_age = run_query(\"\"\"\n",
        "SELECT a.age, a.hadm_id\n",
        "FROM `physionet-data.mimiciv_derived.age` a\n",
        "\"\"\")\n",
        "print(df_age)\n"
      ],
      "metadata": {
        "id": "HEd_LxqDjcSx"
      },
      "execution_count": null,
      "outputs": []
    },
    {
      "cell_type": "code",
      "source": [
        "# Merge the two DataFrames based on 'subject_id'\n",
        "data = data.merge(df_age, on='hadm_id', how='left')\n",
        "\n",
        "# Drop duplicate 'subject_id' rows, keeping only the last age occurrence\n",
        "data = data.drop_duplicates(subset='hadm_id', keep='last')\n",
        "\n",
        "print(data)"
      ],
      "metadata": {
        "id": "hJ3sMJh6ECvI"
      },
      "execution_count": null,
      "outputs": []
    },
    {
      "cell_type": "markdown",
      "source": [
        "### **HIV**"
      ],
      "metadata": {
        "id": "Xj1OVNWQmj_e"
      }
    },
    {
      "cell_type": "code",
      "source": [
        "# Find ICD code related to HIV\n",
        "df = run_query(\"\"\"\n",
        "SELECT icd_code, long_title FROM `physionet-data.mimiciv_hosp.d_icd_diagnoses`\n",
        "WHERE LOWER(long_title) LIKE \"%hiv%\"\n",
        "\"\"\")\n",
        "print(df)\n",
        "\n",
        "# ICD code list\n",
        "icd_codes_hiv = df['icd_code'].to_list()\n",
        "icd_codes_string_hiv = ', '.join([\"'\" + icd + \"'\" for icd in icd_codes_hiv])\n",
        "print(icd_codes_string_hiv)\n"
      ],
      "metadata": {
        "id": "jNcUFKYfmmmc"
      },
      "execution_count": null,
      "outputs": []
    },
    {
      "cell_type": "code",
      "source": [
        "# Subject ID that have hiv\n",
        "df_hiv = run_query(f\"\"\"\n",
        "SELECT `physionet-data.mimiciv_hosp.diagnoses_icd`.subject_id\n",
        "FROM `physionet-data.mimiciv_hosp.diagnoses_icd`\n",
        "WHERE `physionet-data.mimiciv_hosp.diagnoses_icd`.icd_code IN ({icd_codes_string_hiv})\n",
        "\"\"\")\n",
        "print(df_hiv)"
      ],
      "metadata": {
        "id": "Q-ryraFfnJ4M"
      },
      "execution_count": null,
      "outputs": []
    },
    {
      "cell_type": "markdown",
      "source": [
        "Then need to create a binary variable with 1 if patient is in this list, 0 otherwise"
      ],
      "metadata": {
        "id": "mDzHj00TnRQK"
      }
    },
    {
      "cell_type": "code",
      "source": [
        "# Add the 'hiv' feature to df\n",
        "data['hiv'] = data['subject_id'].isin(df_hiv['subject_id']).astype(int)\n",
        "print(data)"
      ],
      "metadata": {
        "id": "kmWYcDUgK__u"
      },
      "execution_count": null,
      "outputs": []
    },
    {
      "cell_type": "markdown",
      "source": [
        "### **Oxygen**"
      ],
      "metadata": {
        "id": "ulU3cr-Z9IT5"
      }
    },
    {
      "cell_type": "code",
      "source": [
        "df = run_query(\"\"\"\n",
        "SELECT *\n",
        "FROM `physionet-data.mimiciv_hosp.d_labitems`\n",
        "WHERE LOWER(LABEL) LIKE '%oxygen%'\n",
        "\"\"\")\n",
        "print(df)"
      ],
      "metadata": {
        "id": "9NGs_qA38WUn"
      },
      "execution_count": null,
      "outputs": []
    },
    {
      "cell_type": "code",
      "source": [
        "df_oxygen = run_query(\"\"\"\n",
        "SELECT hadm_id, valuenum\n",
        "FROM `physionet-data.mimiciv_hosp.labevents`\n",
        "WHERE itemid = 50816\n",
        "\"\"\")\n",
        "print(df_oxygen)"
      ],
      "metadata": {
        "id": "Zo3nF0Op78ZW"
      },
      "execution_count": null,
      "outputs": []
    },
    {
      "cell_type": "code",
      "source": [
        "df_oxygen = df_oxygen.dropna()"
      ],
      "metadata": {
        "id": "WPGrLyVpL9XZ"
      },
      "execution_count": null,
      "outputs": []
    },
    {
      "cell_type": "code",
      "source": [
        "data = data.merge(df_oxygen, on='hadm_id', how='left')\n",
        "data = data.drop_duplicates(subset='hadm_id', keep='first')\n",
        "data = data.rename(columns={'valuenum': 'oxygen'})\n",
        "\n",
        "print(data)"
      ],
      "metadata": {
        "id": "OU61hyCdLkZk"
      },
      "execution_count": null,
      "outputs": []
    },
    {
      "cell_type": "markdown",
      "source": [
        "### **Heart rate**"
      ],
      "metadata": {
        "id": "mOrrgXQGAKHY"
      }
    },
    {
      "cell_type": "code",
      "source": [
        "df = run_query(\"\"\"\n",
        "SELECT itemid, label\n",
        "FROM `physionet-data.mimiciv_icu.d_items`\n",
        "WHERE LOWER(LABEL) LIKE '%heart%rate%'\n",
        "\"\"\")\n",
        "print(df)"
      ],
      "metadata": {
        "id": "yK7zlwY--PZy"
      },
      "execution_count": null,
      "outputs": []
    },
    {
      "cell_type": "code",
      "source": [
        "df_heart = run_query(\"\"\"\n",
        "SELECT hadm_id, valuenum\n",
        "FROM `physionet-data.mimiciv_icu.chartevents`\n",
        "WHERE itemid = 220045\n",
        "\"\"\")\n",
        "print(df_heart)"
      ],
      "metadata": {
        "id": "JwL89mkN_Gic"
      },
      "execution_count": null,
      "outputs": []
    },
    {
      "cell_type": "code",
      "source": [
        "data = data.merge(df_heart, on='hadm_id', how='left')\n",
        "data = data.drop_duplicates(subset='hadm_id', keep='first')\n",
        "data = data.rename(columns={'valuenum': 'heart_rate'})\n",
        "\n",
        "print(data)"
      ],
      "metadata": {
        "id": "TYiWFiG2MoOZ"
      },
      "execution_count": null,
      "outputs": []
    },
    {
      "cell_type": "markdown",
      "source": [
        "### **Temperature**"
      ],
      "metadata": {
        "id": "JFMB6O43AOUH"
      }
    },
    {
      "cell_type": "code",
      "source": [
        "df = run_query(\"\"\"\n",
        "SELECT itemid, label\n",
        "FROM `physionet-data.mimiciv_icu.d_items`\n",
        "WHERE LOWER(LABEL) LIKE '%temperature%'\n",
        "\"\"\")\n",
        "print(df)"
      ],
      "metadata": {
        "id": "wZyexm8iAUle"
      },
      "execution_count": null,
      "outputs": []
    },
    {
      "cell_type": "code",
      "source": [
        "df_temperature = run_query(\"\"\"\n",
        "SELECT hadm_id, valuenum\n",
        "FROM `physionet-data.mimiciv_icu.chartevents`\n",
        "WHERE itemid = 223761\n",
        "\"\"\")\n",
        "print(df_temperature)"
      ],
      "metadata": {
        "id": "8I4DXWOYAWW2"
      },
      "execution_count": null,
      "outputs": []
    },
    {
      "cell_type": "code",
      "source": [
        "data = data.merge(df_temperature, on='hadm_id', how='left')\n",
        "data = data.drop_duplicates(subset='hadm_id', keep='first')\n",
        "data = data.rename(columns={'valuenum': 'temperature'})\n",
        "\n",
        "print(data)"
      ],
      "metadata": {
        "id": "igTYgDdUMtNn"
      },
      "execution_count": null,
      "outputs": []
    },
    {
      "cell_type": "markdown",
      "source": [
        "### **Complete Blood Count**"
      ],
      "metadata": {
        "id": "ZR2LeJ4u5PAg"
      }
    },
    {
      "cell_type": "code",
      "source": [
        "df_cbc = run_query(\"\"\"\n",
        "SELECT hadm_id, hemoglobin, rbc, wbc\n",
        "FROM `physionet-data.mimiciv_derived.complete_blood_count`\n",
        "\"\"\")\n",
        "print(df_cbc)"
      ],
      "metadata": {
        "id": "7kiPOLoY5ORz"
      },
      "execution_count": null,
      "outputs": []
    },
    {
      "cell_type": "code",
      "source": [
        "df_cbc = df_cbc.dropna()"
      ],
      "metadata": {
        "id": "A_nZZMD-O4OY"
      },
      "execution_count": null,
      "outputs": []
    },
    {
      "cell_type": "code",
      "source": [
        "data = data.merge(df_cbc, on='hadm_id', how='left')\n",
        "\n"
      ],
      "metadata": {
        "id": "0sb94iKcMRM_"
      },
      "execution_count": null,
      "outputs": []
    },
    {
      "cell_type": "code",
      "source": [
        "# Drop duplicate 'subject_id' rows, keeping only the first occurrence\n",
        "data = data.drop_duplicates(subset='hadm_id', keep='first')\n",
        "\n",
        "print(data)"
      ],
      "metadata": {
        "id": "UEI6ICL9caYg"
      },
      "execution_count": null,
      "outputs": []
    },
    {
      "cell_type": "markdown",
      "source": [
        "### **Sputum culture**"
      ],
      "metadata": {
        "id": "5QJNZeyN1daz"
      }
    },
    {
      "cell_type": "code",
      "source": [
        "df = run_query(\"\"\"\n",
        "SELECT *\n",
        "FROM `physionet-data.mimiciv_icu.d_items`\n",
        "WHERE LOWER(label) LIKE '%sputum%culture%'\n",
        "\"\"\")\n",
        "print(df)\n"
      ],
      "metadata": {
        "id": "8pYNCEJNAYMs"
      },
      "execution_count": null,
      "outputs": []
    },
    {
      "cell_type": "code",
      "source": [
        "df_sputum = run_query(\"\"\"\n",
        "SELECT t.hadm_id, t.value\n",
        "FROM `physionet-data.mimiciv_icu.procedureevents` t\n",
        "WHERE itemid = 225451\n",
        "\"\"\")\n",
        "\n",
        "print(df_sputum)"
      ],
      "metadata": {
        "id": "Ue5UJqWIBAGS"
      },
      "execution_count": null,
      "outputs": []
    },
    {
      "cell_type": "code",
      "source": [
        "data = data.merge(df_sputum, on='hadm_id', how='left')\n",
        "\n",
        "print(data)"
      ],
      "metadata": {
        "id": "uTkVcslgNM90"
      },
      "execution_count": null,
      "outputs": []
    },
    {
      "cell_type": "code",
      "source": [
        "data['sputum_culture'] = data['value']\n",
        "data = data.drop('value', axis = 1)\n"
      ],
      "metadata": {
        "id": "0R7CSGAMOPCO"
      },
      "execution_count": null,
      "outputs": []
    },
    {
      "cell_type": "code",
      "source": [
        "print(data)"
      ],
      "metadata": {
        "id": "gKGJ4A2gOdpe"
      },
      "execution_count": null,
      "outputs": []
    },
    {
      "cell_type": "markdown",
      "source": [
        "### **Smoking**"
      ],
      "metadata": {
        "id": "T1aX1YTS1gFq"
      }
    },
    {
      "cell_type": "code",
      "source": [
        "# Diagnosis Codes that indicate smoking-related conditions\n",
        "# F17.x (nicotine dependence), Z72.0 (tobacco use)\n",
        "df_smoke = run_query(\"\"\"\n",
        "SELECT subject_id\n",
        "FROM `physionet-data.mimiciv_hosp.diagnoses_icd`\n",
        "WHERE ICD_CODE LIKE 'F17%' OR\n",
        "      ICD_CODE = 'Z72.0%'\n",
        "      \"\"\")\n",
        "\n",
        "print(df_smoke)\n",
        "\n"
      ],
      "metadata": {
        "id": "UH3jAjRP18Vl"
      },
      "execution_count": null,
      "outputs": []
    },
    {
      "cell_type": "code",
      "source": [
        "# Add the 'smoking' feature to df\n",
        "data['smoke'] = data['subject_id'].isin(df_smoke['subject_id']).astype(int)\n",
        "print(data)"
      ],
      "metadata": {
        "id": "7WlphsZyNSsV"
      },
      "execution_count": null,
      "outputs": []
    },
    {
      "cell_type": "markdown",
      "source": [
        "### **Cough**"
      ],
      "metadata": {
        "id": "tGRAaWsv-hAr"
      }
    },
    {
      "cell_type": "code",
      "source": [
        "# Diagnosis Codes that indicate cough\n",
        "df_cough = run_query(\"\"\"\n",
        "SELECT hadm_id\n",
        "FROM `physionet-data.mimiciv_hosp.diagnoses_icd`\n",
        "WHERE ICD_CODE LIKE 'R05%'\n",
        "      \"\"\")\n",
        "\n",
        "print(df_cough)\n",
        "\n"
      ],
      "metadata": {
        "id": "BF8TD2Q5-k7U"
      },
      "execution_count": null,
      "outputs": []
    },
    {
      "cell_type": "code",
      "source": [
        "# Add the 'cough' feature to df\n",
        "data['cough'] = data['hadm_id'].isin(df_cough['hadm_id']).astype(int)\n",
        "print(data)"
      ],
      "metadata": {
        "id": "4dOiihZwN8Lt"
      },
      "execution_count": null,
      "outputs": []
    },
    {
      "cell_type": "code",
      "source": [
        "data = data.drop_duplicates(subset='hadm_id', keep='first')\n",
        "\n",
        "print(data)"
      ],
      "metadata": {
        "id": "mBPUDo3wPPVa"
      },
      "execution_count": null,
      "outputs": []
    },
    {
      "cell_type": "markdown",
      "source": [
        "#### **4/ Analysis of the data**"
      ],
      "metadata": {
        "id": "SO6wCYVVM4Q7"
      }
    },
    {
      "cell_type": "code",
      "source": [
        "data"
      ],
      "metadata": {
        "id": "yX9pRXGCcsHh"
      },
      "execution_count": null,
      "outputs": []
    },
    {
      "cell_type": "code",
      "source": [
        "data.isna().sum()"
      ],
      "metadata": {
        "id": "sPntG8aSM3Ga"
      },
      "execution_count": null,
      "outputs": []
    },
    {
      "cell_type": "code",
      "source": [
        "data.describe()"
      ],
      "metadata": {
        "id": "dIGcQ4DbM8fI"
      },
      "execution_count": null,
      "outputs": []
    },
    {
      "cell_type": "markdown",
      "source": [
        "#### **5/ Add the diagnoses of each disease**"
      ],
      "metadata": {
        "id": "IRZC0q_ZqC8Q"
      }
    },
    {
      "cell_type": "code",
      "source": [
        "# Find ICD code related to pneumonia\n",
        "\n",
        "df = run_query(\"\"\"\n",
        "SELECT icd_code, long_title FROM `physionet-data.mimiciv_hosp.d_icd_diagnoses`\n",
        "WHERE LOWER(long_title) LIKE \"%pneumonia%\"\n",
        "\"\"\")\n",
        "\n",
        "# ICD code list\n",
        "icd_codes = df['icd_code'].to_list()\n",
        "icd_codes_string = ', '.join([\"'\" + icd + \"'\" for icd in icd_codes])\n",
        "print(icd_codes_string)\n",
        "\n",
        "# Subject ID that have an ICD code related to pneumonia, tuberculosis and bronchitis and a CHEST x-ray\n",
        "\n",
        "df_pneumonia = run_query(f\"\"\"\n",
        "SELECT `physionet-data.mimiciv_hosp.admissions`.hadm_id\n",
        "FROM `physionet-data.mimiciv_hosp.patients`\n",
        "JOIN `physionet-data.mimiciv_hosp.admissions` ON `physionet-data.mimiciv_hosp.patients`.subject_id = `physionet-data.mimiciv_hosp.admissions`.subject_id\n",
        "JOIN `physionet-data.mimiciv_hosp.diagnoses_icd` ON `physionet-data.mimiciv_hosp.admissions`.hadm_id = `physionet-data.mimiciv_hosp.diagnoses_icd`.hadm_id\n",
        "WHERE `physionet-data.mimiciv_hosp.diagnoses_icd`.icd_code IN ({icd_codes_string})\n",
        "\"\"\")\n",
        "print(df_pneumonia)\n",
        "\n",
        "\n"
      ],
      "metadata": {
        "id": "WAHuN7hRqCVU"
      },
      "execution_count": null,
      "outputs": []
    },
    {
      "cell_type": "code",
      "source": [
        "# Add the 'pneumonia' feature to df\n",
        "data['pneumonia'] = data['hadm_id'].isin(df_pneumonia['hadm_id']).astype(int)\n",
        "print(data)"
      ],
      "metadata": {
        "id": "xz0Y4vpIq-RY"
      },
      "execution_count": null,
      "outputs": []
    },
    {
      "cell_type": "code",
      "source": [
        "# Find ICD code related to tuberculosis\n",
        "\n",
        "df = run_query(\"\"\"\n",
        "SELECT icd_code, long_title FROM `physionet-data.mimiciv_hosp.d_icd_diagnoses`\n",
        "WHERE LOWER(long_title) LIKE \"%tuberculosis%\"\n",
        "\"\"\")\n",
        "\n",
        "# ICD code list\n",
        "icd_codes = df['icd_code'].to_list()\n",
        "icd_codes_string = ', '.join([\"'\" + icd + \"'\" for icd in icd_codes])\n",
        "print(icd_codes_string)\n",
        "\n",
        "# Subject ID that have an ICD code related to pneumonia, tuberculosis and bronchitis and a CHEST x-ray\n",
        "\n",
        "df_tuberculosis = run_query(f\"\"\"\n",
        "SELECT `physionet-data.mimiciv_hosp.admissions`.hadm_id\n",
        "FROM `physionet-data.mimiciv_hosp.patients`\n",
        "JOIN `physionet-data.mimiciv_hosp.admissions` ON `physionet-data.mimiciv_hosp.patients`.subject_id = `physionet-data.mimiciv_hosp.admissions`.subject_id\n",
        "JOIN `physionet-data.mimiciv_hosp.diagnoses_icd` ON `physionet-data.mimiciv_hosp.admissions`.hadm_id = `physionet-data.mimiciv_hosp.diagnoses_icd`.hadm_id\n",
        "WHERE `physionet-data.mimiciv_hosp.diagnoses_icd`.icd_code IN ({icd_codes_string})\n",
        "\"\"\")\n",
        "print(df_tuberculosis)\n",
        "\n",
        "\n"
      ],
      "metadata": {
        "id": "sCVJ9Z7fqzPm"
      },
      "execution_count": null,
      "outputs": []
    },
    {
      "cell_type": "code",
      "source": [
        "# Add the 'tuberculosis' feature to df\n",
        "data['tuberculosis'] = data['hadm_id'].isin(df_tuberculosis['hadm_id']).astype(int)\n",
        "print(data)"
      ],
      "metadata": {
        "id": "qxI5DdlurXHg"
      },
      "execution_count": null,
      "outputs": []
    },
    {
      "cell_type": "code",
      "source": [
        "# Find ICD code related to bronchitis\n",
        "\n",
        "df = run_query(\"\"\"\n",
        "SELECT icd_code, long_title FROM `physionet-data.mimiciv_hosp.d_icd_diagnoses`\n",
        "WHERE LOWER(long_title) LIKE \"%bronchitis%\"\n",
        "\"\"\")\n",
        "\n",
        "# ICD code list\n",
        "icd_codes = df['icd_code'].to_list()\n",
        "icd_codes_string = ', '.join([\"'\" + icd + \"'\" for icd in icd_codes])\n",
        "print(icd_codes_string)\n",
        "\n",
        "# Subject ID that have an ICD code related to pneumonia, tuberculosis and bronchitis and a CHEST x-ray\n",
        "\n",
        "df_bronchitis = run_query(f\"\"\"\n",
        "SELECT `physionet-data.mimiciv_hosp.admissions`.hadm_id\n",
        "FROM `physionet-data.mimiciv_hosp.patients`\n",
        "JOIN `physionet-data.mimiciv_hosp.admissions` ON `physionet-data.mimiciv_hosp.patients`.subject_id = `physionet-data.mimiciv_hosp.admissions`.subject_id\n",
        "JOIN `physionet-data.mimiciv_hosp.diagnoses_icd` ON `physionet-data.mimiciv_hosp.admissions`.hadm_id = `physionet-data.mimiciv_hosp.diagnoses_icd`.hadm_id\n",
        "WHERE `physionet-data.mimiciv_hosp.diagnoses_icd`.icd_code IN ({icd_codes_string})\n",
        "\"\"\")\n",
        "print(df_bronchitis)\n",
        "\n",
        "\n"
      ],
      "metadata": {
        "id": "lCEwKX8SsBjL"
      },
      "execution_count": null,
      "outputs": []
    },
    {
      "cell_type": "code",
      "source": [
        "# Add the 'bronchitis' feature to df\n",
        "data['bronchitis'] = data['hadm_id'].isin(df_bronchitis['hadm_id']).astype(int)\n",
        "print(data)"
      ],
      "metadata": {
        "id": "VbO6dK7gsJ4i"
      },
      "execution_count": null,
      "outputs": []
    },
    {
      "cell_type": "code",
      "source": [
        "# Find ICD code related to arthritis\n",
        "\n",
        "df = run_query(\"\"\"\n",
        "SELECT icd_code, long_title FROM `physionet-data.mimiciv_hosp.d_icd_diagnoses`\n",
        "WHERE LOWER(long_title) LIKE \"%arthritis%\"\n",
        "\"\"\")\n",
        "\n",
        "# ICD code list\n",
        "icd_codes = df['icd_code'].to_list()\n",
        "icd_codes_string = ', '.join([\"'\" + icd + \"'\" for icd in icd_codes])\n",
        "print(icd_codes_string)\n",
        "\n",
        "# Subject ID that have an ICD code related to pneumonia, tuberculosis and bronchitis and a CHEST x-ray\n",
        "\n",
        "df_arthritis = run_query(f\"\"\"\n",
        "SELECT `physionet-data.mimiciv_hosp.admissions`.hadm_id\n",
        "FROM `physionet-data.mimiciv_hosp.patients`\n",
        "JOIN `physionet-data.mimiciv_hosp.admissions` ON `physionet-data.mimiciv_hosp.patients`.subject_id = `physionet-data.mimiciv_hosp.admissions`.subject_id\n",
        "JOIN `physionet-data.mimiciv_hosp.diagnoses_icd` ON `physionet-data.mimiciv_hosp.admissions`.hadm_id = `physionet-data.mimiciv_hosp.diagnoses_icd`.hadm_id\n",
        "WHERE `physionet-data.mimiciv_hosp.diagnoses_icd`.icd_code IN ({icd_codes_string})\n",
        "\"\"\")\n",
        "print(df_arthritis)\n",
        "\n",
        "\n"
      ],
      "metadata": {
        "id": "KCFC_XWO1lHX"
      },
      "execution_count": null,
      "outputs": []
    },
    {
      "cell_type": "code",
      "source": [
        "# Add the arthritis feature to df\n",
        "data['arthritis'] = data['hadm_id'].isin(df_arthritis['hadm_id']).astype(int)\n",
        "print(data)"
      ],
      "metadata": {
        "id": "DnuvyYYH1oVT"
      },
      "execution_count": null,
      "outputs": []
    },
    {
      "cell_type": "code",
      "source": [
        "# Find ICD code related to fracture\n",
        "\n",
        "df = run_query(\"\"\"\n",
        "SELECT icd_code, long_title FROM `physionet-data.mimiciv_hosp.d_icd_diagnoses`\n",
        "WHERE LOWER(long_title) LIKE \"%fracture%\"\n",
        "\"\"\")\n",
        "\n",
        "# ICD code list\n",
        "icd_codes = df['icd_code'].to_list()\n",
        "icd_codes_string = ', '.join([\"'\" + icd + \"'\" for icd in icd_codes])\n",
        "print(icd_codes_string)\n",
        "\n",
        "# Subject ID that have an ICD code related to pneumonia, tuberculosis and bronchitis and a CHEST x-ray\n",
        "\n",
        "df_fracture = run_query(f\"\"\"\n",
        "SELECT `physionet-data.mimiciv_hosp.admissions`.hadm_id\n",
        "FROM `physionet-data.mimiciv_hosp.patients`\n",
        "JOIN `physionet-data.mimiciv_hosp.admissions` ON `physionet-data.mimiciv_hosp.patients`.subject_id = `physionet-data.mimiciv_hosp.admissions`.subject_id\n",
        "JOIN `physionet-data.mimiciv_hosp.diagnoses_icd` ON `physionet-data.mimiciv_hosp.admissions`.hadm_id = `physionet-data.mimiciv_hosp.diagnoses_icd`.hadm_id\n",
        "WHERE `physionet-data.mimiciv_hosp.diagnoses_icd`.icd_code IN ({icd_codes_string})\n",
        "\"\"\")\n",
        "print(df_fracture)\n",
        "\n",
        "\n"
      ],
      "metadata": {
        "id": "2NZvU-zu1yC4"
      },
      "execution_count": null,
      "outputs": []
    },
    {
      "cell_type": "code",
      "source": [
        "# Add the fracture feature to df\n",
        "data['fracture'] = data['hadm_id'].isin(df_fracture['hadm_id']).astype(int)\n",
        "print(data)"
      ],
      "metadata": {
        "id": "V-2a7GYq1z7M"
      },
      "execution_count": null,
      "outputs": []
    },
    {
      "cell_type": "code",
      "source": [
        "# Find ICD code related to cancer\n",
        "\n",
        "df = run_query(\"\"\"\n",
        "SELECT icd_code, long_title FROM `physionet-data.mimiciv_hosp.d_icd_diagnoses`\n",
        "WHERE LOWER(long_title) LIKE \"%malignant%neoplasm%\"\n",
        "\"\"\")\n",
        "\n",
        "# ICD code list\n",
        "icd_codes = df['icd_code'].to_list()\n",
        "icd_codes_string = ', '.join([\"'\" + icd + \"'\" for icd in icd_codes])\n",
        "print(icd_codes_string)\n",
        "\n",
        "# Subject ID that have an ICD code related to pneumonia, tuberculosis and bronchitis and a CHEST x-ray\n",
        "\n",
        "df_lung_cancer = run_query(f\"\"\"\n",
        "SELECT `physionet-data.mimiciv_hosp.admissions`.hadm_id\n",
        "FROM `physionet-data.mimiciv_hosp.patients`\n",
        "JOIN `physionet-data.mimiciv_hosp.admissions` ON `physionet-data.mimiciv_hosp.patients`.subject_id = `physionet-data.mimiciv_hosp.admissions`.subject_id\n",
        "JOIN `physionet-data.mimiciv_hosp.diagnoses_icd` ON `physionet-data.mimiciv_hosp.admissions`.hadm_id = `physionet-data.mimiciv_hosp.diagnoses_icd`.hadm_id\n",
        "WHERE `physionet-data.mimiciv_hosp.diagnoses_icd`.icd_code IN ({icd_codes_string})\n",
        "\"\"\")\n",
        "print(df_lung_cancer)\n",
        "\n",
        "\n"
      ],
      "metadata": {
        "id": "8zihnSJf1yce"
      },
      "execution_count": null,
      "outputs": []
    },
    {
      "cell_type": "code",
      "source": [
        "# Add the cancer feature to df\n",
        "data['lung_cancer'] = data['hadm_id'].isin(df_lung_cancer['hadm_id']).astype(int)\n",
        "print(data)"
      ],
      "metadata": {
        "id": "DEUUZZ9O10wW"
      },
      "execution_count": null,
      "outputs": []
    },
    {
      "cell_type": "code",
      "source": [
        "# Find ICD code related to scoliosis\n",
        "\n",
        "df = run_query(\"\"\"\n",
        "SELECT icd_code, long_title FROM `physionet-data.mimiciv_hosp.d_icd_diagnoses`\n",
        "WHERE LOWER(long_title) LIKE \"%scoliosis%\"\n",
        "\"\"\")\n",
        "\n",
        "# ICD code list\n",
        "icd_codes = df['icd_code'].to_list()\n",
        "icd_codes_string = ', '.join([\"'\" + icd + \"'\" for icd in icd_codes])\n",
        "print(icd_codes_string)\n",
        "\n",
        "# Subject ID that have an ICD code related to pneumonia, tuberculosis and bronchitis and a CHEST x-ray\n",
        "\n",
        "df_scoliosis = run_query(f\"\"\"\n",
        "SELECT `physionet-data.mimiciv_hosp.admissions`.hadm_id\n",
        "FROM `physionet-data.mimiciv_hosp.patients`\n",
        "JOIN `physionet-data.mimiciv_hosp.admissions` ON `physionet-data.mimiciv_hosp.patients`.subject_id = `physionet-data.mimiciv_hosp.admissions`.subject_id\n",
        "JOIN `physionet-data.mimiciv_hosp.diagnoses_icd` ON `physionet-data.mimiciv_hosp.admissions`.hadm_id = `physionet-data.mimiciv_hosp.diagnoses_icd`.hadm_id\n",
        "WHERE `physionet-data.mimiciv_hosp.diagnoses_icd`.icd_code IN ({icd_codes_string})\n",
        "\"\"\")\n",
        "print(df_scoliosis)\n",
        "\n",
        "\n"
      ],
      "metadata": {
        "id": "D0rV9gib4cuy"
      },
      "execution_count": null,
      "outputs": []
    },
    {
      "cell_type": "code",
      "source": [
        "# Add the scoliosis feature to df\n",
        "data['scoliosis'] = data['hadm_id'].isin(df_scoliosis['hadm_id']).astype(int)\n",
        "print(data)"
      ],
      "metadata": {
        "id": "1aDrKuOX4fJ3"
      },
      "execution_count": null,
      "outputs": []
    },
    {
      "cell_type": "code",
      "source": [
        "# Find ICD code related to infection\n",
        "\n",
        "df = run_query(\"\"\"\n",
        "SELECT icd_code, long_title FROM `physionet-data.mimiciv_hosp.d_icd_diagnoses`\n",
        "WHERE LOWER(long_title) LIKE \"%infection\"\n",
        "\"\"\")\n",
        "\n",
        "# ICD code list\n",
        "icd_codes = df['icd_code'].to_list()\n",
        "icd_codes_string = ', '.join([\"'\" + icd + \"'\" for icd in icd_codes])\n",
        "print(icd_codes_string)\n",
        "\n",
        "# Subject ID that have an ICD code related to pneumonia, tuberculosis and bronchitis and a CHEST x-ray\n",
        "\n",
        "df_lung_infection = run_query(f\"\"\"\n",
        "SELECT `physionet-data.mimiciv_hosp.admissions`.hadm_id\n",
        "FROM `physionet-data.mimiciv_hosp.patients`\n",
        "JOIN `physionet-data.mimiciv_hosp.admissions` ON `physionet-data.mimiciv_hosp.patients`.subject_id = `physionet-data.mimiciv_hosp.admissions`.subject_id\n",
        "JOIN `physionet-data.mimiciv_hosp.diagnoses_icd` ON `physionet-data.mimiciv_hosp.admissions`.hadm_id = `physionet-data.mimiciv_hosp.diagnoses_icd`.hadm_id\n",
        "WHERE `physionet-data.mimiciv_hosp.diagnoses_icd`.icd_code IN ({icd_codes_string})\n",
        "\"\"\")\n",
        "print(df_lung_infection)\n",
        "\n",
        "\n"
      ],
      "metadata": {
        "id": "G6OlUE_O4dN5"
      },
      "execution_count": null,
      "outputs": []
    },
    {
      "cell_type": "code",
      "source": [
        "# Add the infection feature to df\n",
        "data['lung_infection'] = data['hadm_id'].isin(df_lung_infection['hadm_id']).astype(int)\n",
        "print(data)"
      ],
      "metadata": {
        "id": "-8XjKS5E4f0v"
      },
      "execution_count": null,
      "outputs": []
    },
    {
      "cell_type": "code",
      "source": [
        "# Drop duplicate 'hadm_id' rows, keeping only the first occurrence\n",
        "data = data.drop_duplicates(subset='hadm_id', keep='first')\n",
        "\n",
        "print(data)"
      ],
      "metadata": {
        "id": "X8anPxHysafE"
      },
      "execution_count": null,
      "outputs": []
    },
    {
      "cell_type": "markdown",
      "source": [
        "#### **6/ Analysis of the data**"
      ],
      "metadata": {
        "id": "Zbla7Bhfkt1_"
      }
    },
    {
      "cell_type": "code",
      "source": [
        "data.isna().sum()"
      ],
      "metadata": {
        "id": "yuAbHcb8skCI"
      },
      "execution_count": null,
      "outputs": []
    },
    {
      "cell_type": "code",
      "source": [
        "data.describe()"
      ],
      "metadata": {
        "id": "oEYRGKpuslGz"
      },
      "execution_count": null,
      "outputs": []
    },
    {
      "cell_type": "code",
      "source": [
        "non_zero_counts = data.apply(lambda x: (x != 0).sum())\n",
        "print(non_zero_counts)"
      ],
      "metadata": {
        "id": "1wyTycLItCCX"
      },
      "execution_count": null,
      "outputs": []
    },
    {
      "cell_type": "code",
      "source": [
        "data['sum'] = data['pneumonia'] + data['tuberculosis'] + data['bronchitis'] + data['arthritis'] + data['fracture'] + data['lung_cancer'] + data['scoliosis'] + data['lung_infection']\n"
      ],
      "metadata": {
        "id": "xHsFUphltSe6"
      },
      "execution_count": null,
      "outputs": []
    },
    {
      "cell_type": "code",
      "source": [
        "print(data)"
      ],
      "metadata": {
        "id": "CwSoQPMctvVK"
      },
      "execution_count": null,
      "outputs": []
    },
    {
      "cell_type": "code",
      "source": [
        "data['sum'].value_counts()"
      ],
      "metadata": {
        "id": "orpwzueRtwuo"
      },
      "execution_count": null,
      "outputs": []
    },
    {
      "cell_type": "markdown",
      "source": [
        "Some patients have multiple diseases at the same time"
      ],
      "metadata": {
        "id": "w7-TAdDXt4aw"
      }
    },
    {
      "cell_type": "code",
      "source": [
        "data.to_csv('other_feature_data.csv', index=False)"
      ],
      "metadata": {
        "id": "o9T_mZmkTAAN"
      },
      "execution_count": null,
      "outputs": []
    },
    {
      "cell_type": "markdown",
      "source": [
        "#### **7/ Merge this additional features with the x-ray data**"
      ],
      "metadata": {
        "id": "M_HPR40Vk3J9"
      }
    },
    {
      "cell_type": "code",
      "source": [
        "columns_to_drop = ['time', 'hadm_id']\n",
        "\n",
        "# Drop the specified columns\n",
        "data = data.drop(columns=columns_to_drop)\n",
        "data"
      ],
      "metadata": {
        "id": "33ShSN2SUCkQ"
      },
      "execution_count": null,
      "outputs": []
    },
    {
      "cell_type": "code",
      "source": [
        "# Merge the two DataFrames based on 'subject_id'\n",
        "data_f = data.merge(data_x_ray, on='subject_id', how='left')\n",
        "\n",
        "# Drop duplicate 'subject_id' rows, keeping only the last age occurrence\n",
        "data_f = data_f.drop_duplicates(subset='hadm_id', keep='last')\n",
        "\n",
        "print(data_f)"
      ],
      "metadata": {
        "id": "Jy3Lv9G1TRNS"
      },
      "execution_count": null,
      "outputs": []
    },
    {
      "cell_type": "code",
      "source": [
        "data_f.to_csv('x_ray_and_features_data.csv', index=False)"
      ],
      "metadata": {
        "id": "tTCD2VigURZ7"
      },
      "execution_count": null,
      "outputs": []
    }
  ]
}