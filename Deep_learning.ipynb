{
  "nbformat": 4,
  "nbformat_minor": 0,
  "metadata": {
    "colab": {
      "provenance": [],
      "gpuType": "T4",
      "name": "Deep_learning.ipynb",
      "authorship_tag": "ABX9TyPwFaZNyP9c4zJEq5+eZQ+5",
      "include_colab_link": true
    },
    "kernelspec": {
      "name": "python3",
      "display_name": "Python 3"
    },
    "language_info": {
      "name": "python"
    },
    "accelerator": "GPU"
  },
  "cells": [
    {
      "cell_type": "markdown",
      "metadata": {
        "id": "view-in-github",
        "colab_type": "text"
      },
      "source": [
        "<a href=\"https://colab.research.google.com/github/tronglinux123/AI-Project/blob/main/Deep_learning.ipynb\" target=\"_parent\"><img src=\"https://colab.research.google.com/assets/colab-badge.svg\" alt=\"Open In Colab\"/></a>"
      ]
    },
    {
      "cell_type": "code",
      "execution_count": null,
      "metadata": {
        "colab": {
          "base_uri": "https://localhost:8080/"
        },
        "id": "CP-Ffikr2Ma4",
        "outputId": "dd08e346-f2e8-4311-cc52-0e4b2546c41c"
      },
      "outputs": [
        {
          "output_type": "stream",
          "name": "stdout",
          "text": [
            "Drive already mounted at /content/drive; to attempt to forcibly remount, call drive.mount(\"/content/drive\", force_remount=True).\n"
          ]
        }
      ],
      "source": [
        "import tensorflow as tf\n",
        "from tensorflow.keras import Model, layers\n",
        "import numpy as np\n",
        "import matplotlib.pyplot as plt\n",
        "from google.colab import drive\n",
        "drive.mount('/content/drive')\n",
        "# zip = '/content/drive/MyDrive/Colab Notebooks/catsanddogs.zip'\n",
        "# import zipfile\n",
        "# with zipfile.ZipFile(zip, 'r') as zip_ref:\n",
        "#     zip_ref.extractall('/content/drive/MyDrive/Colab Notebooks/catsanddogs')\n",
        "# !ls '/content/drive/MyDrive/Colab Notebooks/catsanddogs/PetImages'\n",
        "images_ds = tf.data.Dataset.list_files('/content/drive/MyDrive/Colab Notebooks/catsanddogs/PetImages/*/*', shuffle=False)"
      ]
    },
    {
      "cell_type": "code",
      "source": [
        "data_dir = '/content/drive/MyDrive/Colab Notebooks/catsanddogs/PetImages'"
      ],
      "metadata": {
        "id": "p7i-4OZ_F6r6"
      },
      "execution_count": null,
      "outputs": []
    }
  ]
}